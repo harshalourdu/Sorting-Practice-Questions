{
 "cells": [
  {
   "cell_type": "markdown",
   "id": "9ee8ca6b-e464-42d0-aa0e-9dc68108d41a",
   "metadata": {},
   "source": [
    "Problem 1.Given an array of n numbers, give an algorithm which gives the element appearing maximum number of times?"
   ]
  },
  {
   "cell_type": "code",
   "execution_count": 1,
   "id": "37fa0111-8de4-4329-910a-ebf2bbb4c051",
   "metadata": {},
   "outputs": [
    {
     "name": "stdout",
     "output_type": "stream",
     "text": [
      "30\n"
     ]
    }
   ],
   "source": [
    "def mostFrequent(arr, n): \n",
    "  maxcount = 0; \n",
    "  element_having_max_freq = 0; \n",
    "  for i in range(0, n): \n",
    "    count = 0\n",
    "    for j in range(0, n): \n",
    "      if(arr[i] == arr[j]): \n",
    "        count += 1\n",
    "    if(count > maxcount): \n",
    "      maxcount = count \n",
    "      element_having_max_freq = arr[i] \n",
    "    \n",
    "  return element_having_max_freq; \n",
    "  \n",
    "# Driver Code \n",
    "arr = [40,50,30,40,50,30,30] \n",
    "n = len(arr) \n",
    "print(mostFrequent(arr, n)) "
   ]
  },
  {
   "cell_type": "markdown",
   "id": "80177369-c5d4-4f41-9cee-e7f2daf12c63",
   "metadata": {},
   "source": [
    "Problem 2 : We are given a list of n-1 integers and these integers are in the range of 1 to n . There are no\n",
    "duplicates in the list. One of the integers is missing in the list. Give an algorithm to find that element Ex:\n",
    "[1,2,4,6,3,7,8] 5 is the missing num."
   ]
  },
  {
   "cell_type": "code",
   "execution_count": 3,
   "id": "8836db07-c30b-4612-9ba3-b9df2696b2ed",
   "metadata": {},
   "outputs": [
    {
     "name": "stdout",
     "output_type": "stream",
     "text": [
      "5\n"
     ]
    }
   ],
   "source": [
    "# Find Missing Element\n",
    "def findMissing(arr, N):\n",
    "  \n",
    "    # create a list of zeroes\n",
    "    temp = [0] * (N+1)\n",
    "\n",
    "    for i in range(0, N):\n",
    "        temp[arr[i] - 1] = 1\n",
    "\n",
    "    for i in range(0, N+1):\n",
    "        if(temp[i] == 0):\n",
    "            ans = i + 1\n",
    "\n",
    "    print(ans)\n",
    "\n",
    "# Driver code\n",
    "if __name__ == '__main__':\n",
    "    arr = [1,2,4,6,3,7,8]\n",
    "    N = len(arr)\n",
    "\n",
    "    # Function call\n",
    "    findMissing(arr, N)"
   ]
  },
  {
   "cell_type": "markdown",
   "id": "b54705a4-28fe-4e53-97b9-df3f4d856d2f",
   "metadata": {},
   "source": [
    "Problem 3 : Given an array of n positive numbers. All numbers occurs even number of times except 1 which\n",
    "occurs odd number of times. Find that number in O(n) time and O(1) space. Ex: [1,2,3,2,3,1,3]. 3 is repeats odd\n",
    "times."
   ]
  },
  {
   "cell_type": "code",
   "execution_count": 4,
   "id": "2cd6d432-895d-41b5-9fb9-36d1c7d0e59c",
   "metadata": {},
   "outputs": [
    {
     "name": "stdout",
     "output_type": "stream",
     "text": [
      "5\n"
     ]
    }
   ],
   "source": [
    "def getOddOccurrence(arr, arr_size):\n",
    "    \n",
    "    for i in range(0,arr_size):\n",
    "        count = 0\n",
    "        for j in range(0, arr_size):\n",
    "            if arr[i] == arr[j]:\n",
    "                count+=1\n",
    "            \n",
    "        if (count % 2 != 0):\n",
    "            return arr[i]\n",
    "        \n",
    "    return -1\n",
    "    \n",
    "    \n",
    "# driver code \n",
    "arr = [2, 3, 5, 4, 5, 2, 4, 3, 5, 2, 4, 4, 2 ]\n",
    "n = len(arr)\n",
    "print(getOddOccurrence(arr, n))"
   ]
  },
  {
   "cell_type": "markdown",
   "id": "068a7d66-9f06-49ba-8ef8-39800b46a369",
   "metadata": {},
   "source": [
    "Problem 4 : Given an array of n elements. Find two elements in the array such that their sum is equal to given\n",
    "element K."
   ]
  },
  {
   "cell_type": "code",
   "execution_count": 5,
   "id": "0e4bcf40-c67a-4127-937b-8fdf39368cce",
   "metadata": {},
   "outputs": [
    {
     "name": "stdout",
     "output_type": "stream",
     "text": [
      "Pair elements are 4 and 11\n"
     ]
    }
   ],
   "source": [
    "def checkPair(arr, n):\n",
    "    s = set()\n",
    "    sum = 0\n",
    " \n",
    "    # Find sum of whole array \n",
    "    for i in range(n):\n",
    "        sum += arr[i]\n",
    "     \n",
    "    # / If sum of array is not \n",
    "    # even then we can not \n",
    "    # divide it into two part \n",
    "    if sum % 2 != 0:\n",
    "        return False\n",
    "    sum = sum / 2\n",
    " \n",
    "    # For each element arr[i], see if \n",
    "    # there is another element with \n",
    "    # value sum - arr[i] \n",
    "    for i in range(n):\n",
    "        val = sum - arr[i]\n",
    "        if arr[i] not in s:\n",
    "            s.add(arr[i])\n",
    "             \n",
    "        # If element exist than \n",
    "        # return the pair \n",
    "        if val in s:\n",
    "            print(\"Pair elements are\", \n",
    "                   arr[i], \"and\", int(val))\n",
    " \n",
    "# Driver Code \n",
    "arr = [2, 11, 5, 1, 4, 7]\n",
    "n = len(arr)\n",
    "if checkPair(arr, n) == False:\n",
    "    print(\"No pair found\")"
   ]
  },
  {
   "cell_type": "markdown",
   "id": "42057964-d137-4809-9aa9-88a38287ffe7",
   "metadata": {},
   "source": [
    "Problem 5 : Given an array of both positive and negative numbers, find two numbers such that their sum is\n",
    "closest to 0. Ex: [ 1 ,60 ,-10, 70, -80,85]. Ans : -80,85."
   ]
  },
  {
   "cell_type": "code",
   "execution_count": 6,
   "id": "13d9cf3d-0ba9-4ef2-b74d-0fe08dd9aa29",
   "metadata": {},
   "outputs": [
    {
     "name": "stdout",
     "output_type": "stream",
     "text": [
      "The two elements whose sum is minimum are -80 and  85\n"
     ]
    }
   ],
   "source": [
    "def minAbsSumPair(arr,arr_size):\n",
    "    inv_count = 0\n",
    " \n",
    "    # Array should have at least\n",
    "    # two elements\n",
    "    if arr_size < 2:\n",
    "        print(\"Invalid Input\")\n",
    "        return\n",
    " \n",
    "    # Initialization of values \n",
    "    min_l = 0\n",
    "    min_r = 1\n",
    "    min_sum = arr[0] + arr[1]\n",
    "    for l in range (0, arr_size - 1):\n",
    "        for r in range (l + 1, arr_size):\n",
    "            sum = arr[l] + arr[r]                 \n",
    "            if abs(min_sum) > abs(sum):         \n",
    "                min_sum = sum\n",
    "                min_l = l\n",
    "                min_r = r\n",
    " \n",
    "    print(\"The two elements whose sum is minimum are\", \n",
    "            arr[min_l], \"and \", arr[min_r])\n",
    " \n",
    "# Driver program to test above function \n",
    "arr = [1, 60, -10, 70, -80, 85]\n",
    " \n",
    "minAbsSumPair(arr, 6);"
   ]
  },
  {
   "cell_type": "markdown",
   "id": "8815e0c4-f4c5-492f-9f08-bf4101709eef",
   "metadata": {},
   "source": [
    "Problem 6 : Given an array of n elements . Find three elements such that their sum is equal to the given\n",
    "number."
   ]
  },
  {
   "cell_type": "code",
   "execution_count": 7,
   "id": "2d5f35d7-9eb6-4c54-84e2-1890839deafd",
   "metadata": {},
   "outputs": [
    {
     "name": "stdout",
     "output_type": "stream",
     "text": [
      "Triplet is 4 ,  10 ,  8\n"
     ]
    },
    {
     "data": {
      "text/plain": [
       "True"
      ]
     },
     "execution_count": 7,
     "metadata": {},
     "output_type": "execute_result"
    }
   ],
   "source": [
    "def find3Numbers(A, arr_size, sum):\n",
    " \n",
    "    # Fix the first element as A[i]\n",
    "    for i in range( 0, arr_size-2):\n",
    " \n",
    "        # Fix the second element as A[j]\n",
    "        for j in range(i + 1, arr_size-1): \n",
    "             \n",
    "            # Now look for the third number\n",
    "            for k in range(j + 1, arr_size):\n",
    "                if A[i] + A[j] + A[k] == sum:\n",
    "                    print(\"Triplet is\", A[i],\n",
    "                          \", \", A[j], \", \", A[k])\n",
    "                    return True\n",
    "     \n",
    "    # If we reach here, then no \n",
    "    # triplet was found\n",
    "    return False\n",
    " \n",
    "# Driver program to test above function \n",
    "A = [1, 4, 45, 6, 10, 8]\n",
    "sum = 22\n",
    "arr_size = len(A)\n",
    "find3Numbers(A, arr_size, sum)"
   ]
  },
  {
   "cell_type": "markdown",
   "id": "a37bda1e-516a-4df4-b531-5689489eca3c",
   "metadata": {},
   "source": [
    "Problem 7 : Given an array of n elements . Find three elements i, j, k in the array such that\n",
    "i * i + j * j = k*k."
   ]
  },
  {
   "cell_type": "code",
   "execution_count": 8,
   "id": "0a0d95b0-7153-4ca8-becf-dcc6d61d9e17",
   "metadata": {},
   "outputs": [
    {
     "name": "stdout",
     "output_type": "stream",
     "text": [
      "4\n"
     ]
    }
   ],
   "source": [
    "def CountTriplets(arr, n):\n",
    " \n",
    "    cnt = 0;\n",
    " \n",
    "    for i in range(0, n):\n",
    "        for j in range(i + 1, n):\n",
    "            for k in range(j + 1, n):\n",
    " \n",
    "                # If it satisfy the\n",
    "                # given conditions\n",
    "                if (arr[k] < arr[i] and arr[i] < arr[j]):\n",
    "                    cnt += 1;\n",
    "                 \n",
    "    # Return the final count\n",
    "    return cnt;\n",
    " \n",
    "# Driver Code\n",
    " \n",
    "# Given array arr[]\n",
    "arr = [ 2, 5, 1, 3, 0 ];\n",
    " \n",
    "n = len(arr);\n",
    " \n",
    "# Function Call\n",
    "print(CountTriplets(arr, n))"
   ]
  },
  {
   "cell_type": "markdown",
   "id": "e05c7a01-7180-4d51-98cd-67c1b23dab77",
   "metadata": {},
   "source": [
    "Problem 8 : An element is a majority if it appears more than n/2 times. Give an algorithm takes an array of n\n",
    "element as argument and identifies a majority (if it exists)."
   ]
  },
  {
   "cell_type": "code",
   "execution_count": 9,
   "id": "17f4fbfe-fcfc-4635-b271-8ae7273f599d",
   "metadata": {},
   "outputs": [
    {
     "name": "stdout",
     "output_type": "stream",
     "text": [
      "1\n"
     ]
    }
   ],
   "source": [
    "def findMajority(arr, n):\n",
    " \n",
    "    maxCount = 0\n",
    "    index = -1  # sentinels\n",
    "    for i in range(n):\n",
    " \n",
    "        count = 1\n",
    "        # here we compare the element in \n",
    "        # ith position with i+1th position\n",
    "        for j in range(i+1, n):\n",
    " \n",
    "            if(arr[i] == arr[j]):\n",
    "                count += 1\n",
    " \n",
    "        # update maxCount if count of\n",
    "        # current element is greater\n",
    "        if(count > maxCount):\n",
    " \n",
    "            maxCount = count\n",
    "            index = i\n",
    " \n",
    "    # if maxCount is greater than n/2\n",
    "    # return the corresponding element\n",
    "    if (maxCount > n//2):\n",
    "        print(arr[index])\n",
    " \n",
    "    else:\n",
    "        print(\"No Majority Element\")\n",
    " \n",
    " \n",
    "# Driver code\n",
    "if __name__ == \"__main__\":\n",
    "    arr = [1, 1, 2, 1, 3, 5, 1]\n",
    "    n = len(arr)\n",
    " \n",
    "    # Function calling\n",
    "    findMajority(arr, n)"
   ]
  },
  {
   "cell_type": "markdown",
   "id": "174b93fd-1131-4685-9943-1e13d305d7c4",
   "metadata": {},
   "source": [
    "Problem 9 : Given n × n matrix, and in each row all 1’s are followed by 0’s. Find the row with the maximum\n",
    "number of 0’s."
   ]
  },
  {
   "cell_type": "code",
   "execution_count": 10,
   "id": "8de538ad-04ca-4c1c-8b73-8617ddc25a51",
   "metadata": {},
   "outputs": [
    {
     "name": "stdout",
     "output_type": "stream",
     "text": [
      "Row number =  4 , MaxCount =  3\n"
     ]
    }
   ],
   "source": [
    "N = 4\n",
    " \n",
    "# function for finding row with\n",
    "# maximum 1\n",
    "def findMax (arr):\n",
    "    row = 0\n",
    "    j = N - 1\n",
    "    for i in range(0, N):\n",
    "        # find left most position\n",
    "        # of 1 in a row find 1st\n",
    "        # zero in a row\n",
    "        while (arr[i][j] == 1\n",
    "                     and j >= 0):\n",
    "            row = i\n",
    "            j -= 1\n",
    "         \n",
    "    print(\"Row number = \" , row + 1,\n",
    "         \", MaxCount = \", N - 1 - j)\n",
    " \n",
    "# driver program\n",
    "arr = [ [0, 0, 0, 1],\n",
    "        [0, 0, 0, 1],\n",
    "        [0, 0, 0, 0],\n",
    "        [0, 1, 1, 1] ]\n",
    "         \n",
    "findMax(arr)"
   ]
  },
  {
   "cell_type": "markdown",
   "id": "6325ef22-fc90-4678-b562-b251c761023f",
   "metadata": {},
   "source": [
    "Problem 10 : Sort an array of 0’s, 1’s and 2’s [or R’s, G’s and B’s]: Given an array A[] consisting of 0’s, 1’s and\n",
    "2’s, give an algorithm for sorting A[].The algorithm should put all 0’s first, then all 1’s and finally all 2’s at the\n",
    "end. Example Input = {0,1,1,0,1,2,1,2,0,0,0,1}, Output = {0,0,0,0,0,1,1,1,1,1,2,2}"
   ]
  },
  {
   "cell_type": "code",
   "execution_count": 11,
   "id": "92358d74-4d74-4239-9114-ce6cdca7ff69",
   "metadata": {},
   "outputs": [
    {
     "name": "stdout",
     "output_type": "stream",
     "text": [
      "0 0 0 0 0 1 1 1 1 1 2 2 "
     ]
    }
   ],
   "source": [
    "def sort012(a, arr_size):\n",
    "    lo = 0\n",
    "    hi = arr_size - 1\n",
    "    mid = 0\n",
    "    # Iterate till all the elements\n",
    "    # are sorted\n",
    "    while mid <= hi:\n",
    "        # If the element is 0\n",
    "        if a[mid] == 0:\n",
    "            a[lo], a[mid] = a[mid], a[lo]\n",
    "            lo = lo + 1\n",
    "            mid = mid + 1\n",
    "        # If the element is 1\n",
    "        elif a[mid] == 1:\n",
    "            mid = mid + 1\n",
    "        # If the element is 2\n",
    "        else:\n",
    "            a[mid], a[hi] = a[hi], a[mid]\n",
    "            hi = hi - 1\n",
    "    return a\n",
    " \n",
    "# Function to print array\n",
    " \n",
    " \n",
    "def printArray(a):\n",
    "    for k in a:\n",
    "        print(k, end=' ')\n",
    " \n",
    " \n",
    "# Driver Program\n",
    "arr = [0, 1, 1, 0, 1, 2, 1, 2, 0, 0, 0, 1]\n",
    "arr_size = len(arr)\n",
    "arr = sort012(arr, arr_size)\n",
    "printArray(arr)"
   ]
  },
  {
   "cell_type": "code",
   "execution_count": null,
   "id": "b25a39e5-3a64-4e55-8059-f617f04065ab",
   "metadata": {},
   "outputs": [],
   "source": []
  }
 ],
 "metadata": {
  "kernelspec": {
   "display_name": "Python 3 (ipykernel)",
   "language": "python",
   "name": "python3"
  },
  "language_info": {
   "codemirror_mode": {
    "name": "ipython",
    "version": 3
   },
   "file_extension": ".py",
   "mimetype": "text/x-python",
   "name": "python",
   "nbconvert_exporter": "python",
   "pygments_lexer": "ipython3",
   "version": "3.10.8"
  }
 },
 "nbformat": 4,
 "nbformat_minor": 5
}
